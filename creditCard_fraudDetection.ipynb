{
 "cells": [
  {
   "cell_type": "markdown",
   "metadata": {},
   "source": [
    "##  Enosh Nyarige \n",
    "### Data Mining Final Project\n",
    "#### Credit Card Fraud Detection\n",
    "\n",
    "##### Jan - April 2021"
   ]
  },
  {
   "cell_type": "code",
   "execution_count": 5,
   "metadata": {},
   "outputs": [],
   "source": [
    "import pandas as pd\n",
    "import numpy as np\n",
    "import matplotlib.pyplot as plt\n",
    "import seaborn as sns\n",
    "\n",
    "%matplotlib inline\n",
    "sns.set_style(\"whitegrid\")"
   ]
  },
  {
   "cell_type": "markdown",
   "metadata": {},
   "source": [
    "## 1. Methods applied to acquire data\n",
    "\n",
    "### Data related to this project was downloaded from Kaggle's respository, https://www.kaggle.com/mlg-ulb/creditcardfraud "
   ]
  },
  {
   "cell_type": "markdown",
   "metadata": {},
   "source": [
    "- Loading the downloaded dataset"
   ]
  },
  {
   "cell_type": "code",
   "execution_count": 6,
   "metadata": {},
   "outputs": [
    {
     "name": "stdout",
     "output_type": "stream",
     "text": [
      "creditCard_fraudDetection-Copy1.ipynb  dataset\tREADME.md\r\n",
      "creditCard_fraudDetection.ipynb        models\r\n"
     ]
    }
   ],
   "source": [
    "!ls"
   ]
  },
  {
   "cell_type": "code",
   "execution_count": 7,
   "metadata": {},
   "outputs": [],
   "source": [
    "import warnings\n",
    "warnings.filterwarnings('ignore')\n",
    "warnings.simplefilter('ignore')"
   ]
  },
  {
   "cell_type": "code",
   "execution_count": 8,
   "metadata": {},
   "outputs": [
    {
     "data": {
      "text/html": [
       "<div>\n",
       "<style scoped>\n",
       "    .dataframe tbody tr th:only-of-type {\n",
       "        vertical-align: middle;\n",
       "    }\n",
       "\n",
       "    .dataframe tbody tr th {\n",
       "        vertical-align: top;\n",
       "    }\n",
       "\n",
       "    .dataframe thead th {\n",
       "        text-align: right;\n",
       "    }\n",
       "</style>\n",
       "<table border=\"1\" class=\"dataframe\">\n",
       "  <thead>\n",
       "    <tr style=\"text-align: right;\">\n",
       "      <th></th>\n",
       "      <th>Time</th>\n",
       "      <th>V1</th>\n",
       "      <th>V2</th>\n",
       "      <th>V3</th>\n",
       "      <th>V4</th>\n",
       "      <th>V5</th>\n",
       "      <th>V6</th>\n",
       "      <th>V7</th>\n",
       "      <th>V8</th>\n",
       "      <th>V9</th>\n",
       "      <th>...</th>\n",
       "      <th>V21</th>\n",
       "      <th>V22</th>\n",
       "      <th>V23</th>\n",
       "      <th>V24</th>\n",
       "      <th>V25</th>\n",
       "      <th>V26</th>\n",
       "      <th>V27</th>\n",
       "      <th>V28</th>\n",
       "      <th>Amount</th>\n",
       "      <th>Class</th>\n",
       "    </tr>\n",
       "  </thead>\n",
       "  <tbody>\n",
       "    <tr>\n",
       "      <th>0</th>\n",
       "      <td>0.0</td>\n",
       "      <td>-1.359807</td>\n",
       "      <td>-0.072781</td>\n",
       "      <td>2.536347</td>\n",
       "      <td>1.378155</td>\n",
       "      <td>-0.338321</td>\n",
       "      <td>0.462388</td>\n",
       "      <td>0.239599</td>\n",
       "      <td>0.098698</td>\n",
       "      <td>0.363787</td>\n",
       "      <td>...</td>\n",
       "      <td>-0.018307</td>\n",
       "      <td>0.277838</td>\n",
       "      <td>-0.110474</td>\n",
       "      <td>0.066928</td>\n",
       "      <td>0.128539</td>\n",
       "      <td>-0.189115</td>\n",
       "      <td>0.133558</td>\n",
       "      <td>-0.021053</td>\n",
       "      <td>149.62</td>\n",
       "      <td>0</td>\n",
       "    </tr>\n",
       "    <tr>\n",
       "      <th>1</th>\n",
       "      <td>0.0</td>\n",
       "      <td>1.191857</td>\n",
       "      <td>0.266151</td>\n",
       "      <td>0.166480</td>\n",
       "      <td>0.448154</td>\n",
       "      <td>0.060018</td>\n",
       "      <td>-0.082361</td>\n",
       "      <td>-0.078803</td>\n",
       "      <td>0.085102</td>\n",
       "      <td>-0.255425</td>\n",
       "      <td>...</td>\n",
       "      <td>-0.225775</td>\n",
       "      <td>-0.638672</td>\n",
       "      <td>0.101288</td>\n",
       "      <td>-0.339846</td>\n",
       "      <td>0.167170</td>\n",
       "      <td>0.125895</td>\n",
       "      <td>-0.008983</td>\n",
       "      <td>0.014724</td>\n",
       "      <td>2.69</td>\n",
       "      <td>0</td>\n",
       "    </tr>\n",
       "  </tbody>\n",
       "</table>\n",
       "<p>2 rows × 31 columns</p>\n",
       "</div>"
      ],
      "text/plain": [
       "   Time        V1        V2        V3        V4        V5        V6        V7  \\\n",
       "0   0.0 -1.359807 -0.072781  2.536347  1.378155 -0.338321  0.462388  0.239599   \n",
       "1   0.0  1.191857  0.266151  0.166480  0.448154  0.060018 -0.082361 -0.078803   \n",
       "\n",
       "         V8        V9  ...       V21       V22       V23       V24       V25  \\\n",
       "0  0.098698  0.363787  ... -0.018307  0.277838 -0.110474  0.066928  0.128539   \n",
       "1  0.085102 -0.255425  ... -0.225775 -0.638672  0.101288 -0.339846  0.167170   \n",
       "\n",
       "        V26       V27       V28  Amount  Class  \n",
       "0 -0.189115  0.133558 -0.021053  149.62      0  \n",
       "1  0.125895 -0.008983  0.014724    2.69      0  \n",
       "\n",
       "[2 rows x 31 columns]"
      ]
     },
     "execution_count": 8,
     "metadata": {},
     "output_type": "execute_result"
    }
   ],
   "source": [
    "data = pd.read_csv(\"dataset/creditcard.csv\")\n",
    "data.head(2)"
   ]
  },
  {
   "cell_type": "code",
   "execution_count": 4,
   "metadata": {},
   "outputs": [
    {
     "data": {
      "text/plain": [
       "Index(['Time', 'V1', 'V2', 'V3', 'V4', 'V5', 'V6', 'V7', 'V8', 'V9', 'V10',\n",
       "       'V11', 'V12', 'V13', 'V14', 'V15', 'V16', 'V17', 'V18', 'V19', 'V20',\n",
       "       'V21', 'V22', 'V23', 'V24', 'V25', 'V26', 'V27', 'V28', 'Amount',\n",
       "       'Class'],\n",
       "      dtype='object')"
      ]
     },
     "execution_count": 4,
     "metadata": {},
     "output_type": "execute_result"
    }
   ],
   "source": [
    "data.columns"
   ]
  },
  {
   "cell_type": "markdown",
   "metadata": {},
   "source": [
    "- In this dataset, we can only use Time, Amount and Class columns. \n",
    "\n",
    "- The class feature is in the form of: \n",
    "    - 1: fraud\n",
    "    - 0: not_fraud"
   ]
  },
  {
   "cell_type": "markdown",
   "metadata": {},
   "source": [
    "- From the Class feature, the value counts for the two labels is 284315 and 492 for not_fraud and fraud respectively"
   ]
  },
  {
   "cell_type": "code",
   "execution_count": 10,
   "metadata": {},
   "outputs": [
    {
     "data": {
      "text/plain": [
       "0    284315\n",
       "1       492\n",
       "Name: Class, dtype: int64"
      ]
     },
     "execution_count": 10,
     "metadata": {},
     "output_type": "execute_result"
    }
   ],
   "source": [
    "data.Class.value_counts()"
   ]
  },
  {
   "cell_type": "code",
   "execution_count": 6,
   "metadata": {},
   "outputs": [
    {
     "name": "stdout",
     "output_type": "stream",
     "text": [
      "<class 'pandas.core.frame.DataFrame'>\n",
      "RangeIndex: 284807 entries, 0 to 284806\n",
      "Data columns (total 31 columns):\n",
      " #   Column  Non-Null Count   Dtype  \n",
      "---  ------  --------------   -----  \n",
      " 0   Time    284807 non-null  float64\n",
      " 1   V1      284807 non-null  float64\n",
      " 2   V2      284807 non-null  float64\n",
      " 3   V3      284807 non-null  float64\n",
      " 4   V4      284807 non-null  float64\n",
      " 5   V5      284807 non-null  float64\n",
      " 6   V6      284807 non-null  float64\n",
      " 7   V7      284807 non-null  float64\n",
      " 8   V8      284807 non-null  float64\n",
      " 9   V9      284807 non-null  float64\n",
      " 10  V10     284807 non-null  float64\n",
      " 11  V11     284807 non-null  float64\n",
      " 12  V12     284807 non-null  float64\n",
      " 13  V13     284807 non-null  float64\n",
      " 14  V14     284807 non-null  float64\n",
      " 15  V15     284807 non-null  float64\n",
      " 16  V16     284807 non-null  float64\n",
      " 17  V17     284807 non-null  float64\n",
      " 18  V18     284807 non-null  float64\n",
      " 19  V19     284807 non-null  float64\n",
      " 20  V20     284807 non-null  float64\n",
      " 21  V21     284807 non-null  float64\n",
      " 22  V22     284807 non-null  float64\n",
      " 23  V23     284807 non-null  float64\n",
      " 24  V24     284807 non-null  float64\n",
      " 25  V25     284807 non-null  float64\n",
      " 26  V26     284807 non-null  float64\n",
      " 27  V27     284807 non-null  float64\n",
      " 28  V28     284807 non-null  float64\n",
      " 29  Amount  284807 non-null  float64\n",
      " 30  Class   284807 non-null  int64  \n",
      "dtypes: float64(30), int64(1)\n",
      "memory usage: 67.4 MB\n"
     ]
    }
   ],
   "source": [
    "data.info()"
   ]
  },
  {
   "cell_type": "markdown",
   "metadata": {},
   "source": [
    "   ## 2. Data Pre-processing"
   ]
  },
  {
   "cell_type": "markdown",
   "metadata": {},
   "source": [
    "- Convert the dataframe into two variables, \n",
    "    - Data features - V1 - V28\n",
    "    - Label column - Class"
   ]
  },
  {
   "cell_type": "code",
   "execution_count": 11,
   "metadata": {},
   "outputs": [],
   "source": [
    "def prep_data(data: pd.DataFrame) -> (np.ndarray, np.ndarray):\n",
    "\n",
    "    X = data.iloc[:, 2:30].values\n",
    "    y = data.Class.values\n",
    "    return X, y"
   ]
  },
  {
   "cell_type": "markdown",
   "metadata": {},
   "source": [
    "- Define a fucntion to create a scatter plot based on our data and labels"
   ]
  },
  {
   "cell_type": "code",
   "execution_count": 12,
   "metadata": {},
   "outputs": [],
   "source": [
    "def plot_data(X: np.ndarray, y: np.ndarray):\n",
    "    plt.scatter(X[y == 0, 0], X[y == 0, 1], label=\"Class #0\", alpha=0.5, linewidth=0.15)\n",
    "    plt.scatter(X[y == 1, 0], X[y == 1, 1], label=\"Class #1\", alpha=0.5, linewidth=0.15, c='r')\n",
    "    plt.legend()\n",
    "    return plt.show()"
   ]
  },
  {
   "cell_type": "markdown",
   "metadata": {},
   "source": [
    "- Initiate the X and y variables from the prep_data function\n",
    "    - Plot our data by running the initiated data points"
   ]
  },
  {
   "cell_type": "code",
   "execution_count": 15,
   "metadata": {},
   "outputs": [
    {
     "data": {
      "image/png": "[encoded data removed]",
      "text/plain": [
       "<Figure size 432x288 with 1 Axes>"
      ]
     },
     "metadata": {},
     "output_type": "display_data"
    }
   ],
   "source": [
    "X, y = prep_data(data)\n",
    "plot_data(X, y)"
   ]
  },
  {
   "cell_type": "markdown",
   "metadata": {},
   "source": [
    "- From teh above distribution, we can clearly see that there is an imbalance between the two Classes of fraud\n",
    "    - We will resample the training dataset using SMOTE from imblearn at the stage of splitting the data"
   ]
  },
  {
   "cell_type": "markdown",
   "metadata": {},
   "source": [
    "   ## 3. Data scaling and transformation"
   ]
  },
  {
   "cell_type": "code",
   "execution_count": null,
   "metadata": {},
   "outputs": [],
   "source": []
  },
  {
   "cell_type": "code",
   "execution_count": 16,
   "metadata": {},
   "outputs": [],
   "source": [
    "from sklearn.model_selection import train_test_split\n",
    "from sklearn.preprocessing import StandardScaler\n",
    "np.random.seed(123)"
   ]
  },
  {
   "cell_type": "markdown",
   "metadata": {},
   "source": [
    "- Split the dataset for training and testing"
   ]
  },
  {
   "cell_type": "code",
   "execution_count": 17,
   "metadata": {},
   "outputs": [],
   "source": [
    "from imblearn.over_sampling import SMOTE"
   ]
  },
  {
   "cell_type": "code",
   "execution_count": 18,
   "metadata": {},
   "outputs": [],
   "source": [
    "method = SMOTE()\n",
    "\n",
    "X = data.iloc[:, 2:30]\n",
    "y = data.Class  \n",
    "\n",
    "X_validator, X_test, y_validator, y_test = train_test_split(X, y, test_size=0.3, random_state=42)\n",
    "X_train, X_validate, y_train, y_validate = train_test_split(X_validator, y_validator, test_size=0.2, random_state=42)\n",
    "\n",
    "# Apply resampling to the training data only\n",
    "X_resampled, y_resampled = method.fit_resample(X_train, y_train)"
   ]
  },
  {
   "cell_type": "markdown",
   "metadata": {},
   "source": [
    "- We can compare the labels to see the distribution of data in each class"
   ]
  },
  {
   "cell_type": "code",
   "execution_count": 31,
   "metadata": {},
   "outputs": [
    {
     "data": {
      "text/plain": [
       "0    284315\n",
       "1       492\n",
       "Name: Class, dtype: int64"
      ]
     },
     "execution_count": 31,
     "metadata": {},
     "output_type": "execute_result"
    }
   ],
   "source": [
    "# The initial label values\n",
    "\n",
    "pd.value_counts(pd.Series(y))"
   ]
  },
  {
   "cell_type": "code",
   "execution_count": 32,
   "metadata": {},
   "outputs": [
    {
     "data": {
      "text/plain": [
       "0    159204\n",
       "1    159204\n",
       "Name: Class, dtype: int64"
      ]
     },
     "execution_count": 32,
     "metadata": {},
     "output_type": "execute_result"
    }
   ],
   "source": [
    "# The resampled label values\n",
    "\n",
    "pd.value_counts(pd.Series(y_resampled))"
   ]
  },
  {
   "cell_type": "markdown",
   "metadata": {},
   "source": [
    "- Using Sklearn's StandardScaler, we can transform the dataset as well before we use it to build the model"
   ]
  },
  {
   "cell_type": "code",
   "execution_count": 19,
   "metadata": {},
   "outputs": [],
   "source": [
    "scalar = StandardScaler()\n",
    "\n",
    "X_train = scalar.fit_transform(X_train)\n",
    "X_validate = scalar.transform(X_validate)\n",
    "X_test = scalar.transform(X_test)"
   ]
  },
  {
   "cell_type": "code",
   "execution_count": null,
   "metadata": {},
   "outputs": [],
   "source": []
  },
  {
   "cell_type": "markdown",
   "metadata": {},
   "source": [
    "   ## 4. Model building"
   ]
  },
  {
   "cell_type": "code",
   "execution_count": 20,
   "metadata": {},
   "outputs": [],
   "source": [
    "from tensorflow import keras"
   ]
  },
  {
   "cell_type": "code",
   "execution_count": 22,
   "metadata": {
    "scrolled": false
   },
   "outputs": [
    {
     "name": "stdout",
     "output_type": "stream",
     "text": [
      "Model: \"sequential_1\"\n",
      "_________________________________________________________________\n",
      "Layer (type)                 Output Shape              Param #   \n",
      "=================================================================\n",
      "dense_4 (Dense)              (None, 256)               7424      \n",
      "_________________________________________________________________\n",
      "batch_normalization_3 (Batch (None, 256)               1024      \n",
      "_________________________________________________________________\n",
      "dropout_3 (Dropout)          (None, 256)               0         \n",
      "_________________________________________________________________\n",
      "dense_5 (Dense)              (None, 256)               65792     \n",
      "_________________________________________________________________\n",
      "batch_normalization_4 (Batch (None, 256)               1024      \n",
      "_________________________________________________________________\n",
      "dropout_4 (Dropout)          (None, 256)               0         \n",
      "_________________________________________________________________\n",
      "dense_6 (Dense)              (None, 256)               65792     \n",
      "_________________________________________________________________\n",
      "batch_normalization_5 (Batch (None, 256)               1024      \n",
      "_________________________________________________________________\n",
      "dropout_5 (Dropout)          (None, 256)               0         \n",
      "_________________________________________________________________\n",
      "dense_7 (Dense)              (None, 1)                 257       \n",
      "=================================================================\n",
      "Total params: 142,337\n",
      "Trainable params: 140,801\n",
      "Non-trainable params: 1,536\n",
      "_________________________________________________________________\n"
     ]
    }
   ],
   "source": [
    "model = keras.Sequential([\n",
    "    keras.layers.Dense(256, activation='relu', input_shape=(X_train.shape[-1],)),\n",
    "    keras.layers.BatchNormalization(),\n",
    "    keras.layers.Dropout(0.3),\n",
    "    keras.layers.Dense(256, activation='relu'),\n",
    "    keras.layers.BatchNormalization(),\n",
    "    keras.layers.Dropout(0.3),\n",
    "    keras.layers.Dense(256, activation='relu'),\n",
    "    keras.layers.BatchNormalization(),\n",
    "    keras.layers.Dropout(0.3),\n",
    "    keras.layers.Dense(1, activation='sigmoid'),\n",
    "])\n",
    "\n",
    "model.summary()"
   ]
  },
  {
   "cell_type": "markdown",
   "metadata": {},
   "source": [
    "## 5. Training of the model"
   ]
  },
  {
   "cell_type": "code",
   "execution_count": 23,
   "metadata": {},
   "outputs": [
    {
     "name": "stdout",
     "output_type": "stream",
     "text": [
      "\n",
      "\n",
      "Training Set: X_train: (159491, 28), y_train: (159491,)\n",
      "\n",
      "************************************************************\n",
      "\n",
      "Validation Set: X_validate: (39873, 28), y_validate: (39873,)\n",
      "\n",
      "************************************************************\n",
      "\n",
      "Testing Set: X_test: (85443, 28), y_test: (85443,)\n",
      "\n",
      "\n"
     ]
    }
   ],
   "source": [
    "print(\"\\n\")\n",
    "print(f\"Training Set: X_train: {X_train.shape}, y_train: {y_train.shape}\\n\\n{'*'*60}\\n\")\n",
    "print(f\"Validation Set: X_validate: {X_validate.shape}, y_validate: {y_validate.shape}\\n\\n{'*'*60}\\n\")\n",
    "print(f\"Testing Set: X_test: {X_test.shape}, y_test: {y_test.shape}\")\n",
    "print(\"\\n\")"
   ]
  },
  {
   "cell_type": "code",
   "execution_count": 24,
   "metadata": {},
   "outputs": [],
   "source": [
    "from sklearn.metrics import accuracy_score, confusion_matrix, classification_report, f1_score\n",
    "\n",
    "def print_score(label, prediction, train=True):\n",
    "    if train:\n",
    "        clf_report = pd.DataFrame(classification_report(label, prediction, output_dict=True))\n",
    "        print(\"Train Result:\\n================================================\")\n",
    "        print(f\"Accuracy Score: {accuracy_score(label, prediction) * 100:.2f}%\")\n",
    "        print(\"_______________________________________________\")\n",
    "        print(f\"Classification Report:\\n{clf_report}\")\n",
    "        print(\"_______________________________________________\")\n",
    "        print(f\"Confusion Matrix: \\n {confusion_matrix(y_train, prediction)}\\n\")\n",
    "        \n",
    "    elif train==False:\n",
    "        clf_report = pd.DataFrame(classification_report(label, prediction, output_dict=True))\n",
    "        print(\"Test Result:\\n================================================\")        \n",
    "        print(f\"Accuracy Score: {accuracy_score(label, prediction) * 100:.2f}%\")\n",
    "        print(\"_______________________________________________\")\n",
    "        print(f\"Classification Report:\\n{clf_report}\")\n",
    "        print(\"_______________________________________________\")\n",
    "        print(f\"Confusion Matrix: \\n {confusion_matrix(label, prediction)}\\n\") "
   ]
  },
  {
   "cell_type": "code",
   "execution_count": 25,
   "metadata": {},
   "outputs": [
    {
     "name": "stdout",
     "output_type": "stream",
     "text": [
      "Epoch 1/100\n",
      "798/798 [==============================] - 5s 6ms/step - loss: 0.0854 - accuracy: 1.5675e-04 - fn: 117.0000 - fp: 4201.0000 - tn: 155003.0000 - tp: 170.0000 - precision: 0.0389 - recall: 0.5923 - val_loss: 0.0151 - val_accuracy: 0.0011 - val_fn: 14.0000 - val_fp: 14.0000 - val_tn: 39790.0000 - val_tp: 55.0000 - val_precision: 0.7971 - val_recall: 0.7971\n",
      "Epoch 2/100\n",
      "798/798 [==============================] - 4s 6ms/step - loss: 0.0080 - accuracy: 3.1350e-04 - fn: 99.0000 - fp: 55.0000 - tn: 159149.0000 - tp: 188.0000 - precision: 0.7737 - recall: 0.6551 - val_loss: 0.0076 - val_accuracy: 7.5239e-04 - val_fn: 14.0000 - val_fp: 12.0000 - val_tn: 39792.0000 - val_tp: 55.0000 - val_precision: 0.8209 - val_recall: 0.7971\n",
      "Epoch 3/100\n",
      "798/798 [==============================] - 6s 7ms/step - loss: 0.0060 - accuracy: 1.6302e-04 - fn: 101.0000 - fp: 42.0000 - tn: 159162.0000 - tp: 186.0000 - precision: 0.8158 - recall: 0.6481 - val_loss: 0.0060 - val_accuracy: 5.0159e-04 - val_fn: 14.0000 - val_fp: 11.0000 - val_tn: 39793.0000 - val_tp: 55.0000 - val_precision: 0.8333 - val_recall: 0.7971\n",
      "Epoch 4/100\n",
      "798/798 [==============================] - 5s 6ms/step - loss: 0.0050 - accuracy: 1.2540e-05 - fn: 104.0000 - fp: 42.0000 - tn: 159162.0000 - tp: 183.0000 - precision: 0.8133 - recall: 0.6376 - val_loss: 0.0049 - val_accuracy: 5.0159e-04 - val_fn: 18.0000 - val_fp: 9.0000 - val_tn: 39795.0000 - val_tp: 51.0000 - val_precision: 0.8500 - val_recall: 0.7391\n",
      "Epoch 5/100\n",
      "798/798 [==============================] - 5s 6ms/step - loss: 0.0042 - accuracy: 6.2699e-06 - fn: 93.0000 - fp: 34.0000 - tn: 159170.0000 - tp: 194.0000 - precision: 0.8509 - recall: 0.6760 - val_loss: 0.0046 - val_accuracy: 3.0096e-04 - val_fn: 15.0000 - val_fp: 12.0000 - val_tn: 39792.0000 - val_tp: 54.0000 - val_precision: 0.8182 - val_recall: 0.7826\n",
      "Epoch 6/100\n",
      "798/798 [==============================] - 6s 7ms/step - loss: 0.0038 - accuracy: 6.8969e-05 - fn: 91.0000 - fp: 34.0000 - tn: 159170.0000 - tp: 196.0000 - precision: 0.8522 - recall: 0.6829 - val_loss: 0.0044 - val_accuracy: 1.2540e-04 - val_fn: 25.0000 - val_fp: 5.0000 - val_tn: 39799.0000 - val_tp: 44.0000 - val_precision: 0.8980 - val_recall: 0.6377\n",
      "Epoch 7/100\n",
      "798/798 [==============================] - 5s 7ms/step - loss: 0.0035 - accuracy: 7.5239e-05 - fn: 84.0000 - fp: 31.0000 - tn: 159173.0000 - tp: 203.0000 - precision: 0.8675 - recall: 0.7073 - val_loss: 0.0044 - val_accuracy: 8.5271e-04 - val_fn: 16.0000 - val_fp: 9.0000 - val_tn: 39795.0000 - val_tp: 53.0000 - val_precision: 0.8548 - val_recall: 0.7681\n",
      "Epoch 8/100\n",
      "798/798 [==============================] - 6s 7ms/step - loss: 0.0035 - accuracy: 2.5080e-05 - fn: 86.0000 - fp: 26.0000 - tn: 159178.0000 - tp: 201.0000 - precision: 0.8855 - recall: 0.7003 - val_loss: 0.0047 - val_accuracy: 5.5175e-04 - val_fn: 13.0000 - val_fp: 13.0000 - val_tn: 39791.0000 - val_tp: 56.0000 - val_precision: 0.8116 - val_recall: 0.8116\n",
      "Epoch 9/100\n",
      "798/798 [==============================] - 6s 8ms/step - loss: 0.0032 - accuracy: 0.0000e+00 - fn: 82.0000 - fp: 33.0000 - tn: 159171.0000 - tp: 205.0000 - precision: 0.8613 - recall: 0.7143 - val_loss: 0.0047 - val_accuracy: 6.5207e-04 - val_fn: 13.0000 - val_fp: 14.0000 - val_tn: 39790.0000 - val_tp: 56.0000 - val_precision: 0.8000 - val_recall: 0.8116\n",
      "Epoch 10/100\n",
      "798/798 [==============================] - 6s 7ms/step - loss: 0.0032 - accuracy: 0.0000e+00 - fn: 82.0000 - fp: 28.0000 - tn: 159176.0000 - tp: 205.0000 - precision: 0.8798 - recall: 0.7143 - val_loss: 0.0045 - val_accuracy: 4.0127e-04 - val_fn: 13.0000 - val_fp: 12.0000 - val_tn: 39792.0000 - val_tp: 56.0000 - val_precision: 0.8235 - val_recall: 0.8116\n",
      "Epoch 11/100\n",
      "798/798 [==============================] - 6s 7ms/step - loss: 0.0031 - accuracy: 0.0000e+00 - fn: 77.0000 - fp: 30.0000 - tn: 159174.0000 - tp: 210.0000 - precision: 0.8750 - recall: 0.7317 - val_loss: 0.0038 - val_accuracy: 1.2540e-04 - val_fn: 16.0000 - val_fp: 11.0000 - val_tn: 39793.0000 - val_tp: 53.0000 - val_precision: 0.8281 - val_recall: 0.7681\n",
      "Epoch 12/100\n",
      "798/798 [==============================] - 6s 8ms/step - loss: 0.0027 - accuracy: 6.2699e-06 - fn: 76.0000 - fp: 31.0000 - tn: 159173.0000 - tp: 211.0000 - precision: 0.8719 - recall: 0.7352 - val_loss: 0.0041 - val_accuracy: 8.7779e-04 - val_fn: 18.0000 - val_fp: 8.0000 - val_tn: 39796.0000 - val_tp: 51.0000 - val_precision: 0.8644 - val_recall: 0.7391\n",
      "Epoch 13/100\n",
      "798/798 [==============================] - 6s 7ms/step - loss: 0.0030 - accuracy: 5.6430e-05 - fn: 77.0000 - fp: 24.0000 - tn: 159180.0000 - tp: 210.0000 - precision: 0.8974 - recall: 0.7317 - val_loss: 0.0043 - val_accuracy: 3.2604e-04 - val_fn: 13.0000 - val_fp: 12.0000 - val_tn: 39792.0000 - val_tp: 56.0000 - val_precision: 0.8235 - val_recall: 0.8116\n",
      "Epoch 14/100\n",
      "798/798 [==============================] - 6s 8ms/step - loss: 0.0026 - accuracy: 6.2699e-06 - fn: 71.0000 - fp: 26.0000 - tn: 159178.0000 - tp: 216.0000 - precision: 0.8926 - recall: 0.7526 - val_loss: 0.0044 - val_accuracy: 6.7715e-04 - val_fn: 15.0000 - val_fp: 14.0000 - val_tn: 39790.0000 - val_tp: 54.0000 - val_precision: 0.7941 - val_recall: 0.7826\n",
      "Epoch 15/100\n",
      "798/798 [==============================] - 6s 7ms/step - loss: 0.0026 - accuracy: 1.8810e-05 - fn: 72.0000 - fp: 26.0000 - tn: 159178.0000 - tp: 215.0000 - precision: 0.8921 - recall: 0.7491 - val_loss: 0.0043 - val_accuracy: 7.7747e-04 - val_fn: 15.0000 - val_fp: 10.0000 - val_tn: 39794.0000 - val_tp: 54.0000 - val_precision: 0.8438 - val_recall: 0.7826\n",
      "Epoch 16/100\n",
      "798/798 [==============================] - 6s 7ms/step - loss: 0.0026 - accuracy: 8.1509e-05 - fn: 70.0000 - fp: 22.0000 - tn: 159182.0000 - tp: 217.0000 - precision: 0.9079 - recall: 0.7561 - val_loss: 0.0046 - val_accuracy: 0.0010 - val_fn: 14.0000 - val_fp: 12.0000 - val_tn: 39792.0000 - val_tp: 55.0000 - val_precision: 0.8209 - val_recall: 0.7971\n",
      "Epoch 17/100\n",
      "798/798 [==============================] - 6s 7ms/step - loss: 0.0023 - accuracy: 1.9437e-04 - fn: 69.0000 - fp: 25.0000 - tn: 159179.0000 - tp: 218.0000 - precision: 0.8971 - recall: 0.7596 - val_loss: 0.0045 - val_accuracy: 0.0010 - val_fn: 15.0000 - val_fp: 6.0000 - val_tn: 39798.0000 - val_tp: 54.0000 - val_precision: 0.9000 - val_recall: 0.7826\n",
      "Epoch 18/100\n",
      "798/798 [==============================] - 6s 7ms/step - loss: 0.0024 - accuracy: 4.3890e-05 - fn: 70.0000 - fp: 25.0000 - tn: 159179.0000 - tp: 217.0000 - precision: 0.8967 - recall: 0.7561 - val_loss: 0.0044 - val_accuracy: 3.7619e-04 - val_fn: 13.0000 - val_fp: 13.0000 - val_tn: 39791.0000 - val_tp: 56.0000 - val_precision: 0.8116 - val_recall: 0.8116\n",
      "Epoch 19/100\n",
      "798/798 [==============================] - 6s 7ms/step - loss: 0.0023 - accuracy: 1.8810e-05 - fn: 64.0000 - fp: 30.0000 - tn: 159174.0000 - tp: 223.0000 - precision: 0.8814 - recall: 0.7770 - val_loss: 0.0047 - val_accuracy: 0.0013 - val_fn: 13.0000 - val_fp: 13.0000 - val_tn: 39791.0000 - val_tp: 56.0000 - val_precision: 0.8116 - val_recall: 0.8116\n",
      "Epoch 20/100\n",
      "798/798 [==============================] - 6s 7ms/step - loss: 0.0020 - accuracy: 1.8810e-05 - fn: 60.0000 - fp: 26.0000 - tn: 159178.0000 - tp: 227.0000 - precision: 0.8972 - recall: 0.7909 - val_loss: 0.0042 - val_accuracy: 7.2731e-04 - val_fn: 17.0000 - val_fp: 7.0000 - val_tn: 39797.0000 - val_tp: 52.0000 - val_precision: 0.8814 - val_recall: 0.7536\n",
      "Epoch 21/100\n",
      "798/798 [==============================] - 5s 7ms/step - loss: 0.0020 - accuracy: 3.7620e-05 - fn: 60.0000 - fp: 15.0000 - tn: 159189.0000 - tp: 227.0000 - precision: 0.9380 - recall: 0.7909 - val_loss: 0.0043 - val_accuracy: 6.5207e-04 - val_fn: 16.0000 - val_fp: 7.0000 - val_tn: 39797.0000 - val_tp: 53.0000 - val_precision: 0.8833 - val_recall: 0.7681\n",
      "Epoch 22/100\n",
      "798/798 [==============================] - 5s 7ms/step - loss: 0.0021 - accuracy: 2.5080e-05 - fn: 65.0000 - fp: 26.0000 - tn: 159178.0000 - tp: 222.0000 - precision: 0.8952 - recall: 0.7735 - val_loss: 0.0046 - val_accuracy: 7.7747e-04 - val_fn: 13.0000 - val_fp: 11.0000 - val_tn: 39793.0000 - val_tp: 56.0000 - val_precision: 0.8358 - val_recall: 0.8116\n",
      "Epoch 23/100\n"
     ]
    },
    {
     "name": "stdout",
     "output_type": "stream",
     "text": [
      "798/798 [==============================] - 6s 7ms/step - loss: 0.0018 - accuracy: 3.1350e-05 - fn: 59.0000 - fp: 18.0000 - tn: 159186.0000 - tp: 228.0000 - precision: 0.9268 - recall: 0.7944 - val_loss: 0.0047 - val_accuracy: 7.5239e-04 - val_fn: 14.0000 - val_fp: 10.0000 - val_tn: 39794.0000 - val_tp: 55.0000 - val_precision: 0.8462 - val_recall: 0.7971\n",
      "Epoch 24/100\n",
      "798/798 [==============================] - 6s 7ms/step - loss: 0.0019 - accuracy: 0.0000e+00 - fn: 56.0000 - fp: 21.0000 - tn: 159183.0000 - tp: 231.0000 - precision: 0.9167 - recall: 0.8049 - val_loss: 0.0043 - val_accuracy: 4.2635e-04 - val_fn: 13.0000 - val_fp: 6.0000 - val_tn: 39798.0000 - val_tp: 56.0000 - val_precision: 0.9032 - val_recall: 0.8116\n",
      "Epoch 25/100\n",
      "798/798 [==============================] - 5s 7ms/step - loss: 0.0019 - accuracy: 3.1350e-05 - fn: 56.0000 - fp: 22.0000 - tn: 159182.0000 - tp: 231.0000 - precision: 0.9130 - recall: 0.8049 - val_loss: 0.0045 - val_accuracy: 4.0127e-04 - val_fn: 12.0000 - val_fp: 10.0000 - val_tn: 39794.0000 - val_tp: 57.0000 - val_precision: 0.8507 - val_recall: 0.8261\n",
      "Epoch 26/100\n",
      "798/798 [==============================] - 6s 7ms/step - loss: 0.0017 - accuracy: 6.2699e-06 - fn: 57.0000 - fp: 26.0000 - tn: 159178.0000 - tp: 230.0000 - precision: 0.8984 - recall: 0.8014 - val_loss: 0.0047 - val_accuracy: 4.5143e-04 - val_fn: 13.0000 - val_fp: 7.0000 - val_tn: 39797.0000 - val_tp: 56.0000 - val_precision: 0.8889 - val_recall: 0.8116\n",
      "Epoch 27/100\n",
      "798/798 [==============================] - 5s 6ms/step - loss: 0.0015 - accuracy: 1.2540e-05 - fn: 46.0000 - fp: 21.0000 - tn: 159183.0000 - tp: 241.0000 - precision: 0.9198 - recall: 0.8397 - val_loss: 0.0047 - val_accuracy: 4.5143e-04 - val_fn: 15.0000 - val_fp: 6.0000 - val_tn: 39798.0000 - val_tp: 54.0000 - val_precision: 0.9000 - val_recall: 0.7826\n",
      "Epoch 28/100\n",
      "798/798 [==============================] - 6s 7ms/step - loss: 0.0016 - accuracy: 0.0000e+00 - fn: 50.0000 - fp: 27.0000 - tn: 159177.0000 - tp: 237.0000 - precision: 0.8977 - recall: 0.8258 - val_loss: 0.0046 - val_accuracy: 2.7588e-04 - val_fn: 12.0000 - val_fp: 11.0000 - val_tn: 39793.0000 - val_tp: 57.0000 - val_precision: 0.8382 - val_recall: 0.8261\n",
      "Epoch 29/100\n",
      "798/798 [==============================] - 6s 8ms/step - loss: 0.0015 - accuracy: 1.8810e-05 - fn: 54.0000 - fp: 18.0000 - tn: 159186.0000 - tp: 233.0000 - precision: 0.9283 - recall: 0.8118 - val_loss: 0.0052 - val_accuracy: 5.5175e-04 - val_fn: 14.0000 - val_fp: 15.0000 - val_tn: 39789.0000 - val_tp: 55.0000 - val_precision: 0.7857 - val_recall: 0.7971\n",
      "Epoch 30/100\n",
      "798/798 [==============================] - 7s 8ms/step - loss: 0.0017 - accuracy: 6.2699e-06 - fn: 50.0000 - fp: 27.0000 - tn: 159177.0000 - tp: 237.0000 - precision: 0.8977 - recall: 0.8258 - val_loss: 0.0048 - val_accuracy: 4.7651e-04 - val_fn: 14.0000 - val_fp: 7.0000 - val_tn: 39797.0000 - val_tp: 55.0000 - val_precision: 0.8871 - val_recall: 0.7971\n",
      "Epoch 31/100\n",
      "798/798 [==============================] - 6s 8ms/step - loss: 0.0014 - accuracy: 1.2540e-05 - fn: 50.0000 - fp: 18.0000 - tn: 159186.0000 - tp: 237.0000 - precision: 0.9294 - recall: 0.8258 - val_loss: 0.0049 - val_accuracy: 8.5271e-04 - val_fn: 13.0000 - val_fp: 10.0000 - val_tn: 39794.0000 - val_tp: 56.0000 - val_precision: 0.8485 - val_recall: 0.8116\n",
      "Epoch 32/100\n",
      "798/798 [==============================] - 7s 8ms/step - loss: 0.0014 - accuracy: 3.7620e-05 - fn: 44.0000 - fp: 22.0000 - tn: 159182.0000 - tp: 243.0000 - precision: 0.9170 - recall: 0.8467 - val_loss: 0.0050 - val_accuracy: 7.0223e-04 - val_fn: 14.0000 - val_fp: 9.0000 - val_tn: 39795.0000 - val_tp: 55.0000 - val_precision: 0.8594 - val_recall: 0.7971\n",
      "Epoch 33/100\n",
      "798/798 [==============================] - 7s 8ms/step - loss: 0.0015 - accuracy: 1.8810e-05 - fn: 49.0000 - fp: 21.0000 - tn: 159183.0000 - tp: 238.0000 - precision: 0.9189 - recall: 0.8293 - val_loss: 0.0048 - val_accuracy: 4.5143e-04 - val_fn: 17.0000 - val_fp: 3.0000 - val_tn: 39801.0000 - val_tp: 52.0000 - val_precision: 0.9455 - val_recall: 0.7536\n",
      "Epoch 34/100\n",
      "798/798 [==============================] - 7s 9ms/step - loss: 0.0013 - accuracy: 9.4049e-05 - fn: 44.0000 - fp: 14.0000 - tn: 159190.0000 - tp: 243.0000 - precision: 0.9455 - recall: 0.8467 - val_loss: 0.0054 - val_accuracy: 8.5271e-04 - val_fn: 14.0000 - val_fp: 10.0000 - val_tn: 39794.0000 - val_tp: 55.0000 - val_precision: 0.8462 - val_recall: 0.7971\n",
      "Epoch 35/100\n",
      "798/798 [==============================] - 7s 8ms/step - loss: 0.0014 - accuracy: 5.6430e-05 - fn: 49.0000 - fp: 24.0000 - tn: 159180.0000 - tp: 238.0000 - precision: 0.9084 - recall: 0.8293 - val_loss: 0.0047 - val_accuracy: 4.5143e-04 - val_fn: 12.0000 - val_fp: 10.0000 - val_tn: 39794.0000 - val_tp: 57.0000 - val_precision: 0.8507 - val_recall: 0.8261\n",
      "Epoch 36/100\n",
      "798/798 [==============================] - 7s 9ms/step - loss: 0.0012 - accuracy: 1.8810e-05 - fn: 47.0000 - fp: 21.0000 - tn: 159183.0000 - tp: 240.0000 - precision: 0.9195 - recall: 0.8362 - val_loss: 0.0051 - val_accuracy: 7.2731e-04 - val_fn: 14.0000 - val_fp: 7.0000 - val_tn: 39797.0000 - val_tp: 55.0000 - val_precision: 0.8871 - val_recall: 0.7971\n",
      "Epoch 37/100\n",
      "798/798 [==============================] - 7s 9ms/step - loss: 0.0012 - accuracy: 4.3890e-05 - fn: 41.0000 - fp: 17.0000 - tn: 159187.0000 - tp: 246.0000 - precision: 0.9354 - recall: 0.8571 - val_loss: 0.0054 - val_accuracy: 6.0191e-04 - val_fn: 13.0000 - val_fp: 8.0000 - val_tn: 39796.0000 - val_tp: 56.0000 - val_precision: 0.8750 - val_recall: 0.8116\n",
      "Epoch 38/100\n",
      "798/798 [==============================] - 7s 9ms/step - loss: 0.0012 - accuracy: 1.2540e-05 - fn: 39.0000 - fp: 19.0000 - tn: 159185.0000 - tp: 248.0000 - precision: 0.9288 - recall: 0.8641 - val_loss: 0.0053 - val_accuracy: 6.7715e-04 - val_fn: 13.0000 - val_fp: 6.0000 - val_tn: 39798.0000 - val_tp: 56.0000 - val_precision: 0.9032 - val_recall: 0.8116\n",
      "Epoch 39/100\n",
      "798/798 [==============================] - 7s 9ms/step - loss: 0.0012 - accuracy: 3.1350e-05 - fn: 40.0000 - fp: 14.0000 - tn: 159190.0000 - tp: 247.0000 - precision: 0.9464 - recall: 0.8606 - val_loss: 0.0053 - val_accuracy: 6.0191e-04 - val_fn: 14.0000 - val_fp: 7.0000 - val_tn: 39797.0000 - val_tp: 55.0000 - val_precision: 0.8871 - val_recall: 0.7971\n",
      "Epoch 40/100\n",
      "798/798 [==============================] - 7s 9ms/step - loss: 0.0015 - accuracy: 3.1350e-05 - fn: 50.0000 - fp: 21.0000 - tn: 159183.0000 - tp: 237.0000 - precision: 0.9186 - recall: 0.8258 - val_loss: 0.0053 - val_accuracy: 6.7715e-04 - val_fn: 13.0000 - val_fp: 8.0000 - val_tn: 39796.0000 - val_tp: 56.0000 - val_precision: 0.8750 - val_recall: 0.8116\n",
      "Epoch 41/100\n",
      "798/798 [==============================] - 7s 9ms/step - loss: 0.0011 - accuracy: 6.2699e-06 - fn: 40.0000 - fp: 20.0000 - tn: 159184.0000 - tp: 247.0000 - precision: 0.9251 - recall: 0.8606 - val_loss: 0.0048 - val_accuracy: 2.7588e-04 - val_fn: 13.0000 - val_fp: 8.0000 - val_tn: 39796.0000 - val_tp: 56.0000 - val_precision: 0.8750 - val_recall: 0.8116\n",
      "Epoch 42/100\n",
      "798/798 [==============================] - 7s 8ms/step - loss: 0.0013 - accuracy: 6.2699e-06 - fn: 43.0000 - fp: 20.0000 - tn: 159184.0000 - tp: 244.0000 - precision: 0.9242 - recall: 0.8502 - val_loss: 0.0052 - val_accuracy: 6.7715e-04 - val_fn: 14.0000 - val_fp: 6.0000 - val_tn: 39798.0000 - val_tp: 55.0000 - val_precision: 0.9016 - val_recall: 0.7971\n",
      "Epoch 43/100\n",
      "798/798 [==============================] - 7s 8ms/step - loss: 0.0011 - accuracy: 1.2540e-05 - fn: 36.0000 - fp: 16.0000 - tn: 159188.0000 - tp: 251.0000 - precision: 0.9401 - recall: 0.8746 - val_loss: 0.0048 - val_accuracy: 3.5111e-04 - val_fn: 13.0000 - val_fp: 8.0000 - val_tn: 39796.0000 - val_tp: 56.0000 - val_precision: 0.8750 - val_recall: 0.8116\n",
      "Epoch 44/100\n",
      "798/798 [==============================] - 7s 8ms/step - loss: 0.0011 - accuracy: 1.2540e-05 - fn: 36.0000 - fp: 19.0000 - tn: 159185.0000 - tp: 251.0000 - precision: 0.9296 - recall: 0.8746 - val_loss: 0.0051 - val_accuracy: 4.5143e-04 - val_fn: 13.0000 - val_fp: 7.0000 - val_tn: 39797.0000 - val_tp: 56.0000 - val_precision: 0.8889 - val_recall: 0.8116\n",
      "Epoch 45/100\n"
     ]
    },
    {
     "name": "stdout",
     "output_type": "stream",
     "text": [
      "798/798 [==============================] - 6s 8ms/step - loss: 0.0011 - accuracy: 2.5080e-05 - fn: 39.0000 - fp: 16.0000 - tn: 159188.0000 - tp: 248.0000 - precision: 0.9394 - recall: 0.8641 - val_loss: 0.0050 - val_accuracy: 7.0223e-04 - val_fn: 19.0000 - val_fp: 6.0000 - val_tn: 39798.0000 - val_tp: 50.0000 - val_precision: 0.8929 - val_recall: 0.7246\n",
      "Epoch 46/100\n",
      "798/798 [==============================] - 6s 8ms/step - loss: 0.0013 - accuracy: 2.5080e-05 - fn: 41.0000 - fp: 17.0000 - tn: 159187.0000 - tp: 246.0000 - precision: 0.9354 - recall: 0.8571 - val_loss: 0.0051 - val_accuracy: 3.7619e-04 - val_fn: 13.0000 - val_fp: 6.0000 - val_tn: 39798.0000 - val_tp: 56.0000 - val_precision: 0.9032 - val_recall: 0.8116\n",
      "Epoch 47/100\n",
      "798/798 [==============================] - 6s 7ms/step - loss: 0.0011 - accuracy: 3.1350e-05 - fn: 36.0000 - fp: 15.0000 - tn: 159189.0000 - tp: 251.0000 - precision: 0.9436 - recall: 0.8746 - val_loss: 0.0052 - val_accuracy: 4.5143e-04 - val_fn: 13.0000 - val_fp: 5.0000 - val_tn: 39799.0000 - val_tp: 56.0000 - val_precision: 0.9180 - val_recall: 0.8116\n",
      "Epoch 48/100\n",
      "798/798 [==============================] - 6s 8ms/step - loss: 9.9248e-04 - accuracy: 6.2699e-06 - fn: 35.0000 - fp: 12.0000 - tn: 159192.0000 - tp: 252.0000 - precision: 0.9545 - recall: 0.8780 - val_loss: 0.0050 - val_accuracy: 3.5111e-04 - val_fn: 14.0000 - val_fp: 6.0000 - val_tn: 39798.0000 - val_tp: 55.0000 - val_precision: 0.9016 - val_recall: 0.7971\n",
      "Epoch 49/100\n",
      "798/798 [==============================] - 6s 7ms/step - loss: 0.0012 - accuracy: 2.5080e-05 - fn: 37.0000 - fp: 24.0000 - tn: 159180.0000 - tp: 250.0000 - precision: 0.9124 - recall: 0.8711 - val_loss: 0.0049 - val_accuracy: 7.0223e-04 - val_fn: 12.0000 - val_fp: 9.0000 - val_tn: 39795.0000 - val_tp: 57.0000 - val_precision: 0.8636 - val_recall: 0.8261\n",
      "Epoch 50/100\n",
      "798/798 [==============================] - 7s 9ms/step - loss: 0.0010 - accuracy: 2.5080e-05 - fn: 30.0000 - fp: 13.0000 - tn: 159191.0000 - tp: 257.0000 - precision: 0.9519 - recall: 0.8955 - val_loss: 0.0050 - val_accuracy: 3.5111e-04 - val_fn: 14.0000 - val_fp: 7.0000 - val_tn: 39797.0000 - val_tp: 55.0000 - val_precision: 0.8871 - val_recall: 0.7971\n",
      "Epoch 51/100\n",
      "798/798 [==============================] - 8s 10ms/step - loss: 0.0010 - accuracy: 5.6430e-05 - fn: 33.0000 - fp: 13.0000 - tn: 159191.0000 - tp: 254.0000 - precision: 0.9513 - recall: 0.8850 - val_loss: 0.0052 - val_accuracy: 4.5143e-04 - val_fn: 19.0000 - val_fp: 5.0000 - val_tn: 39799.0000 - val_tp: 50.0000 - val_precision: 0.9091 - val_recall: 0.7246\n",
      "Epoch 52/100\n",
      "798/798 [==============================] - 9s 12ms/step - loss: 0.0011 - accuracy: 4.3890e-05 - fn: 38.0000 - fp: 17.0000 - tn: 159187.0000 - tp: 249.0000 - precision: 0.9361 - recall: 0.8676 - val_loss: 0.0052 - val_accuracy: 5.2667e-04 - val_fn: 15.0000 - val_fp: 12.0000 - val_tn: 39792.0000 - val_tp: 54.0000 - val_precision: 0.8182 - val_recall: 0.7826\n",
      "Epoch 53/100\n",
      "798/798 [==============================] - 8s 10ms/step - loss: 0.0010 - accuracy: 4.3890e-05 - fn: 39.0000 - fp: 16.0000 - tn: 159188.0000 - tp: 248.0000 - precision: 0.9394 - recall: 0.8641 - val_loss: 0.0058 - val_accuracy: 5.7683e-04 - val_fn: 15.0000 - val_fp: 11.0000 - val_tn: 39793.0000 - val_tp: 54.0000 - val_precision: 0.8308 - val_recall: 0.7826\n",
      "Epoch 54/100\n",
      "798/798 [==============================] - 8s 11ms/step - loss: 0.0010 - accuracy: 1.2540e-05 - fn: 39.0000 - fp: 22.0000 - tn: 159182.0000 - tp: 248.0000 - precision: 0.9185 - recall: 0.8641 - val_loss: 0.0055 - val_accuracy: 5.7683e-04 - val_fn: 14.0000 - val_fp: 7.0000 - val_tn: 39797.0000 - val_tp: 55.0000 - val_precision: 0.8871 - val_recall: 0.7971\n",
      "Epoch 55/100\n",
      "798/798 [==============================] - 8s 10ms/step - loss: 8.8362e-04 - accuracy: 1.8810e-05 - fn: 27.0000 - fp: 14.0000 - tn: 159190.0000 - tp: 260.0000 - precision: 0.9489 - recall: 0.9059 - val_loss: 0.0059 - val_accuracy: 6.5207e-04 - val_fn: 14.0000 - val_fp: 8.0000 - val_tn: 39796.0000 - val_tp: 55.0000 - val_precision: 0.8730 - val_recall: 0.7971\n",
      "Epoch 56/100\n",
      "798/798 [==============================] - 9s 11ms/step - loss: 0.0011 - accuracy: 7.5239e-05 - fn: 39.0000 - fp: 18.0000 - tn: 159186.0000 - tp: 248.0000 - precision: 0.9323 - recall: 0.8641 - val_loss: 0.0055 - val_accuracy: 6.7715e-04 - val_fn: 16.0000 - val_fp: 11.0000 - val_tn: 39793.0000 - val_tp: 53.0000 - val_precision: 0.8281 - val_recall: 0.7681\n",
      "Epoch 57/100\n",
      "798/798 [==============================] - 9s 11ms/step - loss: 8.7439e-04 - accuracy: 3.7620e-05 - fn: 26.0000 - fp: 18.0000 - tn: 159186.0000 - tp: 261.0000 - precision: 0.9355 - recall: 0.9094 - val_loss: 0.0058 - val_accuracy: 8.5271e-04 - val_fn: 14.0000 - val_fp: 6.0000 - val_tn: 39798.0000 - val_tp: 55.0000 - val_precision: 0.9016 - val_recall: 0.7971\n",
      "Epoch 58/100\n",
      "798/798 [==============================] - 13s 16ms/step - loss: 0.0010 - accuracy: 6.8969e-05 - fn: 34.0000 - fp: 17.0000 - tn: 159187.0000 - tp: 253.0000 - precision: 0.9370 - recall: 0.8815 - val_loss: 0.0053 - val_accuracy: 5.2667e-04 - val_fn: 15.0000 - val_fp: 11.0000 - val_tn: 39793.0000 - val_tp: 54.0000 - val_precision: 0.8308 - val_recall: 0.7826\n",
      "Epoch 59/100\n",
      "798/798 [==============================] - 15s 19ms/step - loss: 8.5778e-04 - accuracy: 5.6430e-05 - fn: 28.0000 - fp: 17.0000 - tn: 159187.0000 - tp: 259.0000 - precision: 0.9384 - recall: 0.9024 - val_loss: 0.0056 - val_accuracy: 6.2699e-04 - val_fn: 13.0000 - val_fp: 7.0000 - val_tn: 39797.0000 - val_tp: 56.0000 - val_precision: 0.8889 - val_recall: 0.8116\n",
      "Epoch 60/100\n",
      "798/798 [==============================] - 12s 14ms/step - loss: 9.9229e-04 - accuracy: 5.0160e-05 - fn: 34.0000 - fp: 14.0000 - tn: 159190.0000 - tp: 253.0000 - precision: 0.9476 - recall: 0.8815 - val_loss: 0.0060 - val_accuracy: 8.2763e-04 - val_fn: 13.0000 - val_fp: 12.0000 - val_tn: 39792.0000 - val_tp: 56.0000 - val_precision: 0.8235 - val_recall: 0.8116\n",
      "Epoch 61/100\n",
      "798/798 [==============================] - 10s 13ms/step - loss: 9.3216e-04 - accuracy: 3.1350e-05 - fn: 31.0000 - fp: 18.0000 - tn: 159186.0000 - tp: 256.0000 - precision: 0.9343 - recall: 0.8920 - val_loss: 0.0057 - val_accuracy: 6.7715e-04 - val_fn: 13.0000 - val_fp: 11.0000 - val_tn: 39793.0000 - val_tp: 56.0000 - val_precision: 0.8358 - val_recall: 0.8116\n",
      "Epoch 62/100\n",
      "798/798 [==============================] - 10s 12ms/step - loss: 9.4450e-04 - accuracy: 3.1350e-05 - fn: 28.0000 - fp: 18.0000 - tn: 159186.0000 - tp: 259.0000 - precision: 0.9350 - recall: 0.9024 - val_loss: 0.0058 - val_accuracy: 8.2763e-04 - val_fn: 13.0000 - val_fp: 10.0000 - val_tn: 39794.0000 - val_tp: 56.0000 - val_precision: 0.8485 - val_recall: 0.8116\n",
      "Epoch 63/100\n",
      "798/798 [==============================] - 11s 13ms/step - loss: 7.5853e-04 - accuracy: 5.6430e-05 - fn: 21.0000 - fp: 15.0000 - tn: 159189.0000 - tp: 266.0000 - precision: 0.9466 - recall: 0.9268 - val_loss: 0.0060 - val_accuracy: 8.2763e-04 - val_fn: 14.0000 - val_fp: 9.0000 - val_tn: 39795.0000 - val_tp: 55.0000 - val_precision: 0.8594 - val_recall: 0.7971\n",
      "Epoch 64/100\n",
      "798/798 [==============================] - 9s 11ms/step - loss: 8.8742e-04 - accuracy: 8.7779e-05 - fn: 33.0000 - fp: 11.0000 - tn: 159193.0000 - tp: 254.0000 - precision: 0.9585 - recall: 0.8850 - val_loss: 0.0056 - val_accuracy: 7.5239e-04 - val_fn: 16.0000 - val_fp: 6.0000 - val_tn: 39798.0000 - val_tp: 53.0000 - val_precision: 0.8983 - val_recall: 0.7681\n",
      "Epoch 65/100\n",
      "798/798 [==============================] - 9s 12ms/step - loss: 9.0991e-04 - accuracy: 4.3890e-05 - fn: 31.0000 - fp: 17.0000 - tn: 159187.0000 - tp: 256.0000 - precision: 0.9377 - recall: 0.8920 - val_loss: 0.0058 - val_accuracy: 9.5303e-04 - val_fn: 12.0000 - val_fp: 15.0000 - val_tn: 39789.0000 - val_tp: 57.0000 - val_precision: 0.7917 - val_recall: 0.8261\n",
      "Epoch 66/100\n",
      "798/798 [==============================] - 7s 9ms/step - loss: 7.8656e-04 - accuracy: 1.1286e-04 - fn: 30.0000 - fp: 15.0000 - tn: 159189.0000 - tp: 257.0000 - precision: 0.9449 - recall: 0.8955 - val_loss: 0.0061 - val_accuracy: 9.7811e-04 - val_fn: 14.0000 - val_fp: 11.0000 - val_tn: 39793.0000 - val_tp: 55.0000 - val_precision: 0.8333 - val_recall: 0.7971\n",
      "Epoch 67/100\n"
     ]
    },
    {
     "name": "stdout",
     "output_type": "stream",
     "text": [
      "798/798 [==============================] - 7s 9ms/step - loss: 8.2105e-04 - accuracy: 1.1913e-04 - fn: 29.0000 - fp: 19.0000 - tn: 159185.0000 - tp: 258.0000 - precision: 0.9314 - recall: 0.8990 - val_loss: 0.0058 - val_accuracy: 0.0013 - val_fn: 15.0000 - val_fp: 9.0000 - val_tn: 39795.0000 - val_tp: 54.0000 - val_precision: 0.8571 - val_recall: 0.7826\n",
      "Epoch 68/100\n",
      "798/798 [==============================] - 7s 9ms/step - loss: 8.8150e-04 - accuracy: 1.3794e-04 - fn: 27.0000 - fp: 15.0000 - tn: 159189.0000 - tp: 260.0000 - precision: 0.9455 - recall: 0.9059 - val_loss: 0.0057 - val_accuracy: 6.7715e-04 - val_fn: 13.0000 - val_fp: 9.0000 - val_tn: 39795.0000 - val_tp: 56.0000 - val_precision: 0.8615 - val_recall: 0.8116\n",
      "Epoch 69/100\n",
      "798/798 [==============================] - 7s 9ms/step - loss: 7.1044e-04 - accuracy: 7.5239e-05 - fn: 24.0000 - fp: 11.0000 - tn: 159193.0000 - tp: 263.0000 - precision: 0.9599 - recall: 0.9164 - val_loss: 0.0056 - val_accuracy: 7.7747e-04 - val_fn: 14.0000 - val_fp: 10.0000 - val_tn: 39794.0000 - val_tp: 55.0000 - val_precision: 0.8462 - val_recall: 0.7971\n",
      "Epoch 70/100\n",
      "798/798 [==============================] - 8s 10ms/step - loss: 8.9557e-04 - accuracy: 2.5080e-05 - fn: 32.0000 - fp: 15.0000 - tn: 159189.0000 - tp: 255.0000 - precision: 0.9444 - recall: 0.8885 - val_loss: 0.0062 - val_accuracy: 8.2763e-04 - val_fn: 13.0000 - val_fp: 17.0000 - val_tn: 39787.0000 - val_tp: 56.0000 - val_precision: 0.7671 - val_recall: 0.8116\n",
      "Epoch 71/100\n",
      "798/798 [==============================] - 8s 10ms/step - loss: 7.7685e-04 - accuracy: 3.7620e-05 - fn: 26.0000 - fp: 16.0000 - tn: 159188.0000 - tp: 261.0000 - precision: 0.9422 - recall: 0.9094 - val_loss: 0.0061 - val_accuracy: 8.2763e-04 - val_fn: 14.0000 - val_fp: 9.0000 - val_tn: 39795.0000 - val_tp: 55.0000 - val_precision: 0.8594 - val_recall: 0.7971\n",
      "Epoch 72/100\n",
      "798/798 [==============================] - 7s 9ms/step - loss: 8.2022e-04 - accuracy: 1.1286e-04 - fn: 26.0000 - fp: 15.0000 - tn: 159189.0000 - tp: 261.0000 - precision: 0.9457 - recall: 0.9094 - val_loss: 0.0056 - val_accuracy: 7.0223e-04 - val_fn: 13.0000 - val_fp: 10.0000 - val_tn: 39794.0000 - val_tp: 56.0000 - val_precision: 0.8485 - val_recall: 0.8116\n",
      "Epoch 73/100\n",
      "798/798 [==============================] - 7s 9ms/step - loss: 7.7901e-04 - accuracy: 3.1350e-05 - fn: 26.0000 - fp: 16.0000 - tn: 159188.0000 - tp: 261.0000 - precision: 0.9422 - recall: 0.9094 - val_loss: 0.0057 - val_accuracy: 8.2763e-04 - val_fn: 14.0000 - val_fp: 9.0000 - val_tn: 39795.0000 - val_tp: 55.0000 - val_precision: 0.8594 - val_recall: 0.7971\n",
      "Epoch 74/100\n",
      "798/798 [==============================] - 7s 9ms/step - loss: 7.5190e-04 - accuracy: 1.0659e-04 - fn: 26.0000 - fp: 13.0000 - tn: 159191.0000 - tp: 261.0000 - precision: 0.9526 - recall: 0.9094 - val_loss: 0.0056 - val_accuracy: 8.7779e-04 - val_fn: 13.0000 - val_fp: 10.0000 - val_tn: 39794.0000 - val_tp: 56.0000 - val_precision: 0.8485 - val_recall: 0.8116\n",
      "Epoch 75/100\n",
      "798/798 [==============================] - 7s 9ms/step - loss: 7.9715e-04 - accuracy: 8.1509e-05 - fn: 21.0000 - fp: 12.0000 - tn: 159192.0000 - tp: 266.0000 - precision: 0.9568 - recall: 0.9268 - val_loss: 0.0057 - val_accuracy: 8.2763e-04 - val_fn: 13.0000 - val_fp: 8.0000 - val_tn: 39796.0000 - val_tp: 56.0000 - val_precision: 0.8750 - val_recall: 0.8116\n",
      "Epoch 76/100\n",
      "798/798 [==============================] - 7s 8ms/step - loss: 7.6494e-04 - accuracy: 1.9437e-04 - fn: 25.0000 - fp: 12.0000 - tn: 159192.0000 - tp: 262.0000 - precision: 0.9562 - recall: 0.9129 - val_loss: 0.0065 - val_accuracy: 0.0014 - val_fn: 13.0000 - val_fp: 15.0000 - val_tn: 39789.0000 - val_tp: 56.0000 - val_precision: 0.7887 - val_recall: 0.8116\n",
      "Epoch 77/100\n",
      "798/798 [==============================] - 6s 8ms/step - loss: 6.0217e-04 - accuracy: 1.9437e-04 - fn: 20.0000 - fp: 11.0000 - tn: 159193.0000 - tp: 267.0000 - precision: 0.9604 - recall: 0.9303 - val_loss: 0.0058 - val_accuracy: 9.5303e-04 - val_fn: 13.0000 - val_fp: 11.0000 - val_tn: 39793.0000 - val_tp: 56.0000 - val_precision: 0.8358 - val_recall: 0.8116\n",
      "Epoch 78/100\n",
      "798/798 [==============================] - 6s 7ms/step - loss: 7.9867e-04 - accuracy: 1.3794e-04 - fn: 21.0000 - fp: 12.0000 - tn: 159192.0000 - tp: 266.0000 - precision: 0.9568 - recall: 0.9268 - val_loss: 0.0059 - val_accuracy: 0.0012 - val_fn: 14.0000 - val_fp: 9.0000 - val_tn: 39795.0000 - val_tp: 55.0000 - val_precision: 0.8594 - val_recall: 0.7971\n",
      "Epoch 79/100\n",
      "798/798 [==============================] - 5s 7ms/step - loss: 7.5983e-04 - accuracy: 1.0032e-04 - fn: 24.0000 - fp: 10.0000 - tn: 159194.0000 - tp: 263.0000 - precision: 0.9634 - recall: 0.9164 - val_loss: 0.0056 - val_accuracy: 9.7811e-04 - val_fn: 13.0000 - val_fp: 10.0000 - val_tn: 39794.0000 - val_tp: 56.0000 - val_precision: 0.8485 - val_recall: 0.8116\n",
      "Epoch 80/100\n",
      "798/798 [==============================] - 4s 5ms/step - loss: 7.8935e-04 - accuracy: 1.1913e-04 - fn: 28.0000 - fp: 13.0000 - tn: 159191.0000 - tp: 259.0000 - precision: 0.9522 - recall: 0.9024 - val_loss: 0.0052 - val_accuracy: 5.5175e-04 - val_fn: 14.0000 - val_fp: 10.0000 - val_tn: 39794.0000 - val_tp: 55.0000 - val_precision: 0.8462 - val_recall: 0.7971\n",
      "Epoch 81/100\n",
      "798/798 [==============================] - 5s 6ms/step - loss: 7.1338e-04 - accuracy: 3.1350e-05 - fn: 21.0000 - fp: 18.0000 - tn: 159186.0000 - tp: 266.0000 - precision: 0.9366 - recall: 0.9268 - val_loss: 0.0055 - val_accuracy: 6.2699e-04 - val_fn: 14.0000 - val_fp: 7.0000 - val_tn: 39797.0000 - val_tp: 55.0000 - val_precision: 0.8871 - val_recall: 0.7971\n",
      "Epoch 82/100\n",
      "798/798 [==============================] - 5s 6ms/step - loss: 6.7330e-04 - accuracy: 8.1509e-05 - fn: 19.0000 - fp: 13.0000 - tn: 159191.0000 - tp: 268.0000 - precision: 0.9537 - recall: 0.9338 - val_loss: 0.0058 - val_accuracy: 8.0255e-04 - val_fn: 14.0000 - val_fp: 13.0000 - val_tn: 39791.0000 - val_tp: 55.0000 - val_precision: 0.8088 - val_recall: 0.7971\n",
      "Epoch 83/100\n",
      "798/798 [==============================] - 5s 6ms/step - loss: 7.8655e-04 - accuracy: 3.1350e-05 - fn: 26.0000 - fp: 18.0000 - tn: 159186.0000 - tp: 261.0000 - precision: 0.9355 - recall: 0.9094 - val_loss: 0.0057 - val_accuracy: 8.7779e-04 - val_fn: 12.0000 - val_fp: 10.0000 - val_tn: 39794.0000 - val_tp: 57.0000 - val_precision: 0.8507 - val_recall: 0.8261\n",
      "Epoch 84/100\n",
      "798/798 [==============================] - 5s 6ms/step - loss: 7.7208e-04 - accuracy: 7.5239e-05 - fn: 26.0000 - fp: 16.0000 - tn: 159188.0000 - tp: 261.0000 - precision: 0.9422 - recall: 0.9094 - val_loss: 0.0057 - val_accuracy: 7.7747e-04 - val_fn: 13.0000 - val_fp: 11.0000 - val_tn: 39793.0000 - val_tp: 56.0000 - val_precision: 0.8358 - val_recall: 0.8116\n",
      "Epoch 85/100\n",
      "798/798 [==============================] - 5s 6ms/step - loss: 7.0379e-04 - accuracy: 5.6430e-05 - fn: 23.0000 - fp: 15.0000 - tn: 159189.0000 - tp: 264.0000 - precision: 0.9462 - recall: 0.9199 - val_loss: 0.0060 - val_accuracy: 8.2763e-04 - val_fn: 13.0000 - val_fp: 13.0000 - val_tn: 39791.0000 - val_tp: 56.0000 - val_precision: 0.8116 - val_recall: 0.8116\n",
      "Epoch 86/100\n",
      "798/798 [==============================] - 5s 6ms/step - loss: 6.9573e-04 - accuracy: 1.3167e-04 - fn: 26.0000 - fp: 17.0000 - tn: 159187.0000 - tp: 261.0000 - precision: 0.9388 - recall: 0.9094 - val_loss: 0.0058 - val_accuracy: 8.2763e-04 - val_fn: 15.0000 - val_fp: 10.0000 - val_tn: 39794.0000 - val_tp: 54.0000 - val_precision: 0.8438 - val_recall: 0.7826\n",
      "Epoch 87/100\n",
      "798/798 [==============================] - 5s 6ms/step - loss: 6.9539e-04 - accuracy: 1.7556e-04 - fn: 24.0000 - fp: 10.0000 - tn: 159194.0000 - tp: 263.0000 - precision: 0.9634 - recall: 0.9164 - val_loss: 0.0062 - val_accuracy: 0.0010 - val_fn: 16.0000 - val_fp: 7.0000 - val_tn: 39797.0000 - val_tp: 53.0000 - val_precision: 0.8833 - val_recall: 0.7681\n",
      "Epoch 88/100\n",
      "798/798 [==============================] - 5s 6ms/step - loss: 7.6098e-04 - accuracy: 1.4421e-04 - fn: 25.0000 - fp: 17.0000 - tn: 159187.0000 - tp: 262.0000 - precision: 0.9391 - recall: 0.9129 - val_loss: 0.0060 - val_accuracy: 8.2763e-04 - val_fn: 14.0000 - val_fp: 7.0000 - val_tn: 39797.0000 - val_tp: 55.0000 - val_precision: 0.8871 - val_recall: 0.7971\n",
      "Epoch 89/100\n"
     ]
    },
    {
     "name": "stdout",
     "output_type": "stream",
     "text": [
      "798/798 [==============================] - 5s 6ms/step - loss: 6.8712e-04 - accuracy: 1.7556e-04 - fn: 22.0000 - fp: 13.0000 - tn: 159191.0000 - tp: 265.0000 - precision: 0.9532 - recall: 0.9233 - val_loss: 0.0061 - val_accuracy: 6.5207e-04 - val_fn: 14.0000 - val_fp: 11.0000 - val_tn: 39793.0000 - val_tp: 55.0000 - val_precision: 0.8333 - val_recall: 0.7971\n",
      "Epoch 90/100\n",
      "798/798 [==============================] - 5s 6ms/step - loss: 6.8205e-04 - accuracy: 6.8969e-05 - fn: 22.0000 - fp: 14.0000 - tn: 159190.0000 - tp: 265.0000 - precision: 0.9498 - recall: 0.9233 - val_loss: 0.0063 - val_accuracy: 7.5239e-04 - val_fn: 20.0000 - val_fp: 9.0000 - val_tn: 39795.0000 - val_tp: 49.0000 - val_precision: 0.8448 - val_recall: 0.7101\n",
      "Epoch 91/100\n",
      "798/798 [==============================] - 5s 6ms/step - loss: 6.1953e-04 - accuracy: 7.5239e-05 - fn: 27.0000 - fp: 14.0000 - tn: 159190.0000 - tp: 260.0000 - precision: 0.9489 - recall: 0.9059 - val_loss: 0.0066 - val_accuracy: 8.5271e-04 - val_fn: 13.0000 - val_fp: 17.0000 - val_tn: 39787.0000 - val_tp: 56.0000 - val_precision: 0.7671 - val_recall: 0.8116\n",
      "Epoch 92/100\n",
      "798/798 [==============================] - 5s 6ms/step - loss: 6.6955e-04 - accuracy: 7.5239e-05 - fn: 18.0000 - fp: 14.0000 - tn: 159190.0000 - tp: 269.0000 - precision: 0.9505 - recall: 0.9373 - val_loss: 0.0065 - val_accuracy: 9.2795e-04 - val_fn: 13.0000 - val_fp: 14.0000 - val_tn: 39790.0000 - val_tp: 56.0000 - val_precision: 0.8000 - val_recall: 0.8116\n",
      "Epoch 93/100\n",
      "798/798 [==============================] - 5s 6ms/step - loss: 6.1028e-04 - accuracy: 8.1509e-05 - fn: 21.0000 - fp: 15.0000 - tn: 159189.0000 - tp: 266.0000 - precision: 0.9466 - recall: 0.9268 - val_loss: 0.0064 - val_accuracy: 6.7715e-04 - val_fn: 14.0000 - val_fp: 13.0000 - val_tn: 39791.0000 - val_tp: 55.0000 - val_precision: 0.8088 - val_recall: 0.7971\n",
      "Epoch 94/100\n",
      "798/798 [==============================] - 5s 6ms/step - loss: 6.9710e-04 - accuracy: 1.8183e-04 - fn: 23.0000 - fp: 9.0000 - tn: 159195.0000 - tp: 264.0000 - precision: 0.9670 - recall: 0.9199 - val_loss: 0.0062 - val_accuracy: 0.0011 - val_fn: 14.0000 - val_fp: 7.0000 - val_tn: 39797.0000 - val_tp: 55.0000 - val_precision: 0.8871 - val_recall: 0.7971\n",
      "Epoch 95/100\n",
      "798/798 [==============================] - 5s 6ms/step - loss: 7.1999e-04 - accuracy: 1.8810e-04 - fn: 20.0000 - fp: 13.0000 - tn: 159191.0000 - tp: 267.0000 - precision: 0.9536 - recall: 0.9303 - val_loss: 0.0062 - val_accuracy: 8.2763e-04 - val_fn: 14.0000 - val_fp: 8.0000 - val_tn: 39796.0000 - val_tp: 55.0000 - val_precision: 0.8730 - val_recall: 0.7971\n",
      "Epoch 96/100\n",
      "798/798 [==============================] - 5s 6ms/step - loss: 5.0350e-04 - accuracy: 1.5675e-04 - fn: 15.0000 - fp: 8.0000 - tn: 159196.0000 - tp: 272.0000 - precision: 0.9714 - recall: 0.9477 - val_loss: 0.0065 - val_accuracy: 0.0011 - val_fn: 14.0000 - val_fp: 11.0000 - val_tn: 39793.0000 - val_tp: 55.0000 - val_precision: 0.8333 - val_recall: 0.7971\n",
      "Epoch 97/100\n",
      "798/798 [==============================] - 5s 6ms/step - loss: 7.4029e-04 - accuracy: 2.1945e-04 - fn: 22.0000 - fp: 17.0000 - tn: 159187.0000 - tp: 265.0000 - precision: 0.9397 - recall: 0.9233 - val_loss: 0.0066 - val_accuracy: 9.7811e-04 - val_fn: 13.0000 - val_fp: 13.0000 - val_tn: 39791.0000 - val_tp: 56.0000 - val_precision: 0.8116 - val_recall: 0.8116\n",
      "Epoch 98/100\n",
      "798/798 [==============================] - 5s 6ms/step - loss: 5.6753e-04 - accuracy: 1.2540e-04 - fn: 18.0000 - fp: 10.0000 - tn: 159194.0000 - tp: 269.0000 - precision: 0.9642 - recall: 0.9373 - val_loss: 0.0068 - val_accuracy: 0.0013 - val_fn: 13.0000 - val_fp: 14.0000 - val_tn: 39790.0000 - val_tp: 56.0000 - val_precision: 0.8000 - val_recall: 0.8116\n",
      "Epoch 99/100\n",
      "798/798 [==============================] - 5s 6ms/step - loss: 5.3846e-04 - accuracy: 2.4453e-04 - fn: 15.0000 - fp: 11.0000 - tn: 159193.0000 - tp: 272.0000 - precision: 0.9611 - recall: 0.9477 - val_loss: 0.0065 - val_accuracy: 0.0010 - val_fn: 14.0000 - val_fp: 8.0000 - val_tn: 39796.0000 - val_tp: 55.0000 - val_precision: 0.8730 - val_recall: 0.7971\n",
      "Epoch 100/100\n",
      "798/798 [==============================] - 4s 5ms/step - loss: 7.7910e-04 - accuracy: 1.0659e-04 - fn: 26.0000 - fp: 12.0000 - tn: 159192.0000 - tp: 261.0000 - precision: 0.9560 - recall: 0.9094 - val_loss: 0.0062 - val_accuracy: 0.0012 - val_fn: 14.0000 - val_fp: 9.0000 - val_tn: 39795.0000 - val_tp: 55.0000 - val_precision: 0.8594 - val_recall: 0.7971\n"
     ]
    }
   ],
   "source": [
    "METRICS = [\n",
    "    keras.metrics.Accuracy(name='accuracy'),\n",
    "    keras.metrics.FalseNegatives(name='fn'),\n",
    "    keras.metrics.FalsePositives(name='fp'),\n",
    "    keras.metrics.TrueNegatives(name='tn'),\n",
    "    keras.metrics.TruePositives(name='tp'),\n",
    "    keras.metrics.Precision(name='precision'),\n",
    "    keras.metrics.Recall(name='recall')\n",
    "]\n",
    "\n",
    "model.compile(optimizer=keras.optimizers.Adam(1e-3), loss='binary_crossentropy', metrics=METRICS)\n",
    "\n",
    "callbacks = [keras.callbacks.ModelCheckpoint('models/fraud_model.h5', save_best_only=True,monitor='val_loss', mode='min')]\n",
    "\n",
    "r = model.fit(\n",
    "    X_train, y_train, \n",
    "    validation_data=(X_validate, y_validate),\n",
    "    batch_size=200, \n",
    "    epochs=50, \n",
    "    callbacks=callbacks,\n",
    ")"
   ]
  },
  {
   "cell_type": "markdown",
   "metadata": {},
   "source": [
    "## 8. Model Evaluation Techniques"
   ]
  },
  {
   "cell_type": "markdown",
   "metadata": {},
   "source": [
    "- Get an overview of the test metrics performance"
   ]
  },
  {
   "cell_type": "code",
   "execution_count": 27,
   "metadata": {},
   "outputs": [
    {
     "name": "stdout",
     "output_type": "stream",
     "text": [
      "2671/2671 [==============================] - 3s 1ms/step - loss: 0.0038 - accuracy: 9.2459e-04 - fn: 31.0000 - fp: 11.0000 - tn: 85296.0000 - tp: 105.0000 - precision: 0.9052 - recall: 0.7721\n",
      "[0.0037748804315924644, 0.0009245930123142898, 31.0, 11.0, 85296.0, 105.0, 0.9051724076271057, 0.7720588445663452]\n"
     ]
    }
   ],
   "source": [
    "score = model.evaluate(X_test, y_test)\n",
    "print(score)"
   ]
  },
  {
   "cell_type": "code",
   "execution_count": 28,
   "metadata": {},
   "outputs": [
    {
     "data": {
      "text/plain": [
       "<matplotlib.legend.Legend at 0x7f116c7057f0>"
      ]
     },
     "execution_count": 28,
     "metadata": {},
     "output_type": "execute_result"
    },
    {
     "data": {
      "image/png": "[encoded data removed]",
      "text/plain": [
       "<Figure size 864x1152 with 4 Axes>"
      ]
     },
     "metadata": {},
     "output_type": "display_data"
    }
   ],
   "source": [
    "plt.figure(figsize=(12, 16))\n",
    "\n",
    "plt.subplot(4, 2, 1)\n",
    "plt.plot(r.history['loss'], label='Loss')\n",
    "plt.plot(r.history['val_loss'], label='val_Loss')\n",
    "plt.title('Loss Function evolution during training')\n",
    "plt.legend()\n",
    "\n",
    "plt.subplot(4, 2, 2)\n",
    "plt.plot(r.history['fn'], label='fn')\n",
    "plt.plot(r.history['val_fn'], label='val_fn')\n",
    "plt.title('Accuracy evolution during training')\n",
    "plt.legend()\n",
    "\n",
    "plt.subplot(4, 2, 3)\n",
    "plt.plot(r.history['precision'], label='precision')\n",
    "plt.plot(r.history['val_precision'], label='val_precision')\n",
    "plt.title('Precision evolution during training')\n",
    "plt.legend()\n",
    "\n",
    "plt.subplot(4, 2, 4)\n",
    "plt.plot(r.history['recall'], label='recall')\n",
    "plt.plot(r.history['val_recall'], label='val_recall')\n",
    "plt.title('Recall evolution during training')\n",
    "plt.legend()"
   ]
  },
  {
   "cell_type": "code",
   "execution_count": 29,
   "metadata": {},
   "outputs": [
    {
     "name": "stdout",
     "output_type": "stream",
     "text": [
      "Train Result:\n",
      "================================================\n",
      "Accuracy Score: 99.99%\n",
      "_______________________________________________\n",
      "Classification Report:\n",
      "                       0           1  accuracy      macro avg  weighted avg\n",
      "precision       0.999962    0.992933   0.99995       0.996448       0.99995\n",
      "recall          0.999987    0.979094   0.99995       0.989541       0.99995\n",
      "f1-score        0.999975    0.985965   0.99995       0.992970       0.99995\n",
      "support    159204.000000  287.000000   0.99995  159491.000000  159491.00000\n",
      "_______________________________________________\n",
      "Confusion Matrix: \n",
      " [[159202      2]\n",
      " [     6    281]]\n",
      "\n",
      "Test Result:\n",
      "================================================\n",
      "Accuracy Score: 99.95%\n",
      "_______________________________________________\n",
      "Classification Report:\n",
      "                      0           1  accuracy     macro avg  weighted avg\n",
      "precision      0.999637    0.905172  0.999508      0.952405      0.999486\n",
      "recall         0.999871    0.772059  0.999508      0.885965      0.999508\n",
      "f1-score       0.999754    0.833333  0.999508      0.916544      0.999489\n",
      "support    85307.000000  136.000000  0.999508  85443.000000  85443.000000\n",
      "_______________________________________________\n",
      "Confusion Matrix: \n",
      " [[85296    11]\n",
      " [   31   105]]\n",
      "\n"
     ]
    }
   ],
   "source": [
    "y_train_pred = model.predict(X_train)\n",
    "y_test_pred = model.predict(X_test)\n",
    "\n",
    "print_score(y_train, y_train_pred.round(), train=True)\n",
    "print_score(y_test, y_test_pred.round(), train=False)\n",
    "\n",
    "scores_dict = {\n",
    "    'ANNs': {\n",
    "        'Train': f1_score(y_train, y_train_pred.round()),\n",
    "        'Test': f1_score(y_test, y_test_pred.round()),\n",
    "    },\n",
    "}"
   ]
  },
  {
   "cell_type": "markdown",
   "metadata": {},
   "source": [
    "## 6. Extraction of rules, trends or patterns"
   ]
  },
  {
   "cell_type": "code",
   "execution_count": null,
   "metadata": {},
   "outputs": [],
   "source": []
  },
  {
   "cell_type": "code",
   "execution_count": null,
   "metadata": {},
   "outputs": [],
   "source": []
  },
  {
   "cell_type": "code",
   "execution_count": null,
   "metadata": {},
   "outputs": [],
   "source": []
  },
  {
   "cell_type": "markdown",
   "metadata": {},
   "source": [
    "## 7. Visualization of  rules, trends or patterns"
   ]
  },
  {
   "cell_type": "code",
   "execution_count": null,
   "metadata": {},
   "outputs": [],
   "source": []
  },
  {
   "cell_type": "code",
   "execution_count": null,
   "metadata": {},
   "outputs": [],
   "source": []
  },
  {
   "cell_type": "code",
   "execution_count": null,
   "metadata": {},
   "outputs": [],
   "source": []
  },
  {
   "cell_type": "markdown",
   "metadata": {},
   "source": [
    "## 9. Optimizing the evaluated model"
   ]
  },
  {
   "cell_type": "code",
   "execution_count": null,
   "metadata": {},
   "outputs": [],
   "source": []
  },
  {
   "cell_type": "code",
   "execution_count": null,
   "metadata": {},
   "outputs": [],
   "source": []
  },
  {
   "cell_type": "code",
   "execution_count": null,
   "metadata": {},
   "outputs": [],
   "source": []
  },
  {
   "cell_type": "code",
   "execution_count": null,
   "metadata": {},
   "outputs": [],
   "source": []
  },
  {
   "cell_type": "code",
   "execution_count": null,
   "metadata": {},
   "outputs": [],
   "source": []
  }
 ],
 "metadata": {
  "kernelspec": {
   "display_name": "Python 3",
   "language": "python",
   "name": "python3"
  },
  "language_info": {
   "codemirror_mode": {
    "name": "ipython",
    "version": 3
   },
   "file_extension": ".py",
   "mimetype": "text/x-python",
   "name": "python",
   "nbconvert_exporter": "python",
   "pygments_lexer": "ipython3",
   "version": "3.8.5"
  }
 },
 "nbformat": 4,
 "nbformat_minor": 4
}
